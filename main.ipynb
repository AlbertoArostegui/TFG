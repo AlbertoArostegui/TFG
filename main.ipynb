{
 "cells": [
  {
   "cell_type": "code",
   "execution_count": 57,
   "metadata": {},
   "outputs": [
    {
     "data": {
      "text/html": [
       "<pre style=\"word-wrap: normal;white-space: pre;background: #fff0;line-height: 1.1;font-family: &quot;Courier New&quot;,Courier,monospace\">     ┌───┐┌───┐┌───┐┌─┐\n",
       "  q: ┤ H ├┤ H ├┤ Z ├┤M├\n",
       "     └───┘└───┘└───┘└╥┘\n",
       "c: 1/════════════════╩═\n",
       "                     0 </pre>"
      ],
      "text/plain": [
       "     ┌───┐┌───┐┌───┐┌─┐\n",
       "  q: ┤ H ├┤ H ├┤ Z ├┤M├\n",
       "     └───┘└───┘└───┘└╥┘\n",
       "c: 1/════════════════╩═\n",
       "                     0 "
      ]
     },
     "execution_count": 57,
     "metadata": {},
     "output_type": "execute_result"
    }
   ],
   "source": [
    "from qiskit import QuantumCircuit\n",
    "from qiskit.providers.aer import AerSimulator\n",
    "sim = AerSimulator()\n",
    "\n",
    "qc = QuantumCircuit(1, 1) #Circuito cuántico con 3 qubits y 3 bits clásicos\n",
    "qc.h(0)\n",
    "qc.h(0)\n",
    "qc.z(0)\n",
    "\n",
    "qc.measure(0, 0)\n",
    "qc.draw()"
   ]
  },
  {
   "cell_type": "code",
   "execution_count": 58,
   "metadata": {},
   "outputs": [
    {
     "data": {
      "text/plain": [
       "{'0': 1024}"
      ]
     },
     "execution_count": 58,
     "metadata": {},
     "output_type": "execute_result"
    }
   ],
   "source": [
    "job = sim.run(qc)\n",
    "result = job.result()\n",
    "result.get_counts()"
   ]
  },
  {
   "cell_type": "markdown",
   "metadata": {},
   "source": [
    "X-gate, parecido a un not en computacion clasica"
   ]
  },
  {
   "cell_type": "code",
   "execution_count": 5,
   "metadata": {},
   "outputs": [
    {
     "data": {
      "text/html": [
       "<pre style=\"word-wrap: normal;white-space: pre;background: #fff0;line-height: 1.1;font-family: &quot;Courier New&quot;,Courier,monospace\">     ┌───┐┌─┐   \n",
       "q_0: ┤ X ├┤M├───\n",
       "     ├───┤└╥┘┌─┐\n",
       "q_1: ┤ X ├─╫─┤M├\n",
       "     └┬─┬┘ ║ └╥┘\n",
       "q_2: ─┤M├──╫──╫─\n",
       "      └╥┘  ║  ║ \n",
       "c: 3/══╩═══╩══╩═\n",
       "       2   0  1 </pre>"
      ],
      "text/plain": [
       "     ┌───┐┌─┐   \n",
       "q_0: ┤ X ├┤M├───\n",
       "     ├───┤└╥┘┌─┐\n",
       "q_1: ┤ X ├─╫─┤M├\n",
       "     └┬─┬┘ ║ └╥┘\n",
       "q_2: ─┤M├──╫──╫─\n",
       "      └╥┘  ║  ║ \n",
       "c: 3/══╩═══╩══╩═\n",
       "       2   0  1 "
      ]
     },
     "execution_count": 5,
     "metadata": {},
     "output_type": "execute_result"
    }
   ],
   "source": [
    "qc2 = QuantumCircuit(3, 3)\n",
    "qc2.x([0,1])\n",
    "qc2.measure([0,1,2], [0,1,2])\n",
    "qc2.draw()"
   ]
  },
  {
   "cell_type": "code",
   "execution_count": 6,
   "metadata": {},
   "outputs": [
    {
     "data": {
      "text/plain": [
       "{'011': 1024}"
      ]
     },
     "execution_count": 6,
     "metadata": {},
     "output_type": "execute_result"
    }
   ],
   "source": [
    "job2 = sim.run(qc2)\n",
    "result = job2.result()\n",
    "result.get_counts()"
   ]
  },
  {
   "cell_type": "markdown",
   "metadata": {},
   "source": [
    "CNOT (Controlled-NOT), es un poco como una XOR en la computacion clasica"
   ]
  },
  {
   "cell_type": "code",
   "execution_count": 7,
   "metadata": {},
   "outputs": [
    {
     "data": {
      "text/html": [
       "<pre style=\"word-wrap: normal;white-space: pre;background: #fff0;line-height: 1.1;font-family: &quot;Courier New&quot;,Courier,monospace\">     ┌───┐     ┌─┐   \n",
       "q_0: ┤ X ├──■──┤M├───\n",
       "     └───┘┌─┴─┐└╥┘┌─┐\n",
       "q_1: ─────┤ X ├─╫─┤M├\n",
       "          └───┘ ║ └╥┘\n",
       "c: 2/═══════════╩══╩═\n",
       "                0  1 </pre>"
      ],
      "text/plain": [
       "     ┌───┐     ┌─┐   \n",
       "q_0: ┤ X ├──■──┤M├───\n",
       "     └───┘┌─┴─┐└╥┘┌─┐\n",
       "q_1: ─────┤ X ├─╫─┤M├\n",
       "          └───┘ ║ └╥┘\n",
       "c: 2/═══════════╩══╩═\n",
       "                0  1 "
      ]
     },
     "metadata": {},
     "output_type": "display_data"
    }
   ],
   "source": [
    "qc3 = QuantumCircuit(2,2)\n",
    "qc3.x(0)\n",
    "qc3.cx(0,1)\n",
    "qc3.measure([0,1], [0,1])\n",
    "display(qc3.draw())"
   ]
  },
  {
   "cell_type": "code",
   "execution_count": 8,
   "metadata": {},
   "outputs": [
    {
     "name": "stdout",
     "output_type": "stream",
     "text": [
      "Result:  {'11': 1024}\n"
     ]
    }
   ],
   "source": [
    "job3 = sim.run(qc3)      # run the experiment\n",
    "result = job3.result()  # get the results\n",
    "# interpret the results as a \"counts\" dictionary\n",
    "print(\"Result: \", result.get_counts())"
   ]
  },
  {
   "cell_type": "code",
   "execution_count": 22,
   "metadata": {},
   "outputs": [
    {
     "name": "stdout",
     "output_type": "stream",
     "text": [
      "{'00': 523, '11': 501}\n"
     ]
    }
   ],
   "source": [
    "qc4 = QuantumCircuit(2, 2)\n",
    "qc4.h(0)\n",
    "qc4.cx(0, 1)\n",
    "qc4.measure([0, 1], [0, 1])\n",
    "qc4.draw()\n",
    " \n",
    "job = sim.run(qc4)\n",
    "result = job.result()\n",
    "print(result.get_counts())"
   ]
  }
 ],
 "metadata": {
  "kernelspec": {
   "display_name": "venv",
   "language": "python",
   "name": "python3"
  },
  "language_info": {
   "codemirror_mode": {
    "name": "ipython",
    "version": 3
   },
   "file_extension": ".py",
   "mimetype": "text/x-python",
   "name": "python",
   "nbconvert_exporter": "python",
   "pygments_lexer": "ipython3",
   "version": "3.11.5"
  },
  "orig_nbformat": 4
 },
 "nbformat": 4,
 "nbformat_minor": 2
}
